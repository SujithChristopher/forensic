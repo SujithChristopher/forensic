{
 "cells": [
  {
   "cell_type": "code",
   "execution_count": null,
   "id": "42d5b6a8",
   "metadata": {},
   "outputs": [],
   "source": [
    "import cv2\n",
    "import numpy as np\n",
    "import matplotlib.pyplot as plt\n",
    "import time"
   ]
  },
  {
   "cell_type": "code",
   "execution_count": null,
   "id": "aefbfd9d",
   "metadata": {},
   "outputs": [],
   "source": [
    "def calculate_image_brightness(image):\n",
    "    \"\"\"Calculate average brightness of an image\"\"\"\n",
    "    try:\n",
    "        # Convert to grayscale if the image is in color\n",
    "        if len(image.shape) == 3:\n",
    "            gray = cv2.cvtColor(image, cv2.COLOR_BGR2GRAY)\n",
    "        else:\n",
    "            gray = image\n",
    "        \n",
    "        # Calculate average brightness\n",
    "        return np.mean(gray)\n",
    "    except Exception as e:\n",
    "        print(f\"Error calculating image brightness: {e}\")\n",
    "        return 0"
   ]
  },
  {
   "cell_type": "code",
   "execution_count": null,
   "id": "8ad5e9b1",
   "metadata": {},
   "outputs": [],
   "source": [
    "from picamera2 import Picamera2\n",
    "import libcamera\n",
    "picam2 = Picamera2()\n",
    "frame_size = (4608, 2592)\n",
    "\n",
    "# Get initial exposure time based on time of day\n",
    "\n",
    "config = picam2.create_still_configuration(\n",
    "    {\"size\": frame_size},\n",
    "    controls={\"ExposureTime\": 50000},\n",
    "    transform=libcamera.Transform(vflip=1),\n",
    ")\n",
    "picam2.configure(config)\n",
    "picam2.start()\n"
   ]
  },
  {
   "cell_type": "code",
   "execution_count": null,
   "id": "780dbf53",
   "metadata": {},
   "outputs": [],
   "source": [
    "desired_brightness = 0.5  # Set desired brightness level (0-1)\n",
    "exposure_tolerance = 50  # Set tolerance for brightness adjustment\n",
    "\n",
    "picam2.set_controls({'ExposureTime': 5000})\n",
    "\n",
    "def set_exposure_time(exposure_time):\n",
    "    \"\"\"Set the exposure time for the camera\"\"\"\n",
    "    desired_exposure_time = exposure_time  # Set desired exposure time in microseconds\n",
    "    exposure_tolerance = 50  # Set tolerance for exposure adjustment\n",
    "    \n",
    "    picam2.set_controls({'ExposureTime': exposure_time})\n",
    "\n",
    "    for i in range(3):\n",
    "        actual_exposure = picam2.get_controls()['ExposureTime']\n",
    "        if abs(actual_exposure - desired_exposure_time) <= exposure_tolerance:\n",
    "            break\n",
    "\n",
    "while True:\n",
    "    frame = picam2.capture_array()\n",
    "    brightness = calculate_image_brightness(frame) / 255.0  # Normalize brightness to [0, 1]\n",
    "\n",
    "    if abs(brightness - desired_brightness) <= exposure_tolerance:\n",
    "        break\n",
    "\n",
    "    # Adjust exposure time based on brightness\n",
    "    if brightness < desired_brightness:\n",
    "        set_exposure_time(picam2.get_controls()['ExposureTime'] + 2000)\n",
    "    else:\n",
    "        set_exposure_time(picam2.get_controls()['ExposureTime'] - 2000)\n",
    "\n",
    "\n",
    "\n",
    "plt.imshow(frame)\n",
    "plt.axis('off')\n",
    "\n"
   ]
  },
  {
   "cell_type": "code",
   "execution_count": null,
   "id": "e634cbf9",
   "metadata": {},
   "outputs": [],
   "source": []
  }
 ],
 "metadata": {
  "language_info": {
   "name": "python"
  }
 },
 "nbformat": 4,
 "nbformat_minor": 5
}

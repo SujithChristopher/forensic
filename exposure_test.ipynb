{
 "cells": [
  {
   "cell_type": "code",
   "execution_count": 2,
   "id": "f500fd1b",
   "metadata": {},
   "outputs": [],
   "source": [
    "import cv2\n",
    "import numpy as np"
   ]
  },
  {
   "cell_type": "code",
   "execution_count": 5,
   "id": "03dc2539",
   "metadata": {},
   "outputs": [],
   "source": [
    "_pth = '/home/rpi2/Documents/forensic/data/day23/image_20250429_121216.jpg'\n",
    "image = cv2.imread(_pth)"
   ]
  },
  {
   "cell_type": "code",
   "execution_count": 6,
   "id": "f31fbb17",
   "metadata": {},
   "outputs": [],
   "source": [
    "def calculate_image_brightness(image):\n",
    "    \"\"\"Calculate average brightness of an image\"\"\"\n",
    "    try:\n",
    "        # Convert to grayscale if the image is in color\n",
    "        if len(image.shape) == 3:\n",
    "            gray = cv2.cvtColor(image, cv2.COLOR_BGR2GRAY)\n",
    "        else:\n",
    "            gray = image\n",
    "        \n",
    "        # Calculate average brightness\n",
    "        return np.mean(gray)\n",
    "    except Exception as e:\n",
    "        print(f\"Error calculating image brightness: {e}\")\n",
    "        return 0"
   ]
  },
  {
   "cell_type": "code",
   "execution_count": 8,
   "id": "85ef596d",
   "metadata": {},
   "outputs": [
    {
     "data": {
      "text/plain": [
       "14.301978426542139"
      ]
     },
     "execution_count": 8,
     "metadata": {},
     "output_type": "execute_result"
    }
   ],
   "source": [
    "calculate_image_brightness(image)"
   ]
  },
  {
   "cell_type": "code",
   "execution_count": null,
   "id": "128ae24b",
   "metadata": {},
   "outputs": [],
   "source": []
  }
 ],
 "metadata": {
  "kernelspec": {
   "display_name": "venv",
   "language": "python",
   "name": "python3"
  },
  "language_info": {
   "codemirror_mode": {
    "name": "ipython",
    "version": 3
   },
   "file_extension": ".py",
   "mimetype": "text/x-python",
   "name": "python",
   "nbconvert_exporter": "python",
   "pygments_lexer": "ipython3",
   "version": "3.11.2"
  }
 },
 "nbformat": 4,
 "nbformat_minor": 5
}
